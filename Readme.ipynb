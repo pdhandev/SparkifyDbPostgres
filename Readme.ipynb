{
 "cells": [
  {
   "cell_type": "markdown",
   "metadata": {},
   "source": [
    "# SparkifyDb   \n",
    "\n",
    "#### Purpose\n",
    "The ETL project is designed and implemented to help my company Sparkify to perform analysis on users' song play activity using our new music app.\n",
    "\n",
    "#### Database schema design and ETL pipeline\n",
    "Database design follows the STAR schema for tables. It has a Fact table : songplays and four Dimension tables: songs, artists, time and users.\n",
    "\n",
    "**What** the user was listening to (songs)\n",
    "**Which** artist was user listening to (artists)\n",
    "**When** the user was listening to the songs (time)\n",
    "**Who** was listening the songs (users)\n",
    "\n",
    "**How** and Where the user was listening to the songs (songplays)\n",
    "\n",
    "\n",
    "The data is ingested from two source folders _song_data_ and _log_data_ in form of json files using pandas library in Python. Data is further filtered, cleaned and recorded in the tables using Postgres SQL and Python (psycopg2) statements and commands. The tables are in their normal form to avoid any duplication and taking into consideration the efficiency of running the most frequent queries.\n",
    "\n",
    "#### Example of some analysis query:\n",
    "- How many paid users were there?\n",
    "   ```sh\n",
    "  %sql SELECT count(*) from users where level='paid';\n",
    "   ```\n",
    "- How many free users were there?\n",
    "   ```sh\n",
    "  %sql SELECT count(*) from users where level='free';\n",
    "   ```\n",
    "- Most frequently listened artists or songs?\n",
    "   ```sh\n",
    "  %sql SELECT song_id, COUNT(song_id) from songplays GROUP BY song_id ORDER BY COUNT(song_id) DESC LIMIT 1;\n",
    "  %sql SELECT artist_id, COUNT(artist_id) from songplays GROUP BY artist_id ORDER BY COUNT(artist_id) DESC LIMIT 1;\n",
    "   ```\n",
    "\n",
    "\n",
    "#### How to use the product?\n",
    "1. Run create_tables.py from terminal using ) to drop existing Sparkify database/tables and create new database/tables.\n",
    "```sh\n",
    "root@0cc7f703976a:/home/workspace# python create_tables.py\n",
    "```\n",
    "2. Run etl.py from terminal to read in json files from song_data and log_data and insert records in the tables.\n",
    "```sh\n",
    "root@0cc7f703976a:/home/workspace# python etl.py\n",
    "```\n",
    "3. Use test.ipynb provided to add and run analytical queries.   \n",
    "\n",
    "\n",
    "### REMEMBER: Make sure to `close` connection to sparkifydb\n",
    "Remember to close the connection to sparkify database after use since multiple connections to the same database are not allowed."
   ]
  },
  {
   "cell_type": "code",
   "execution_count": null,
   "metadata": {},
   "outputs": [],
   "source": []
  }
 ],
 "metadata": {
  "kernelspec": {
   "display_name": "Python 3",
   "language": "python",
   "name": "python3"
  },
  "language_info": {
   "codemirror_mode": {
    "name": "ipython",
    "version": 3
   },
   "file_extension": ".py",
   "mimetype": "text/x-python",
   "name": "python",
   "nbconvert_exporter": "python",
   "pygments_lexer": "ipython3",
   "version": "3.6.9"
  }
 },
 "nbformat": 4,
 "nbformat_minor": 4
}
